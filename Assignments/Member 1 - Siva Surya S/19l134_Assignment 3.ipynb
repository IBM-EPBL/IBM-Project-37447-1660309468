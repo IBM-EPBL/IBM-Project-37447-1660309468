{
 "cells": [
  {
   "cell_type": "markdown",
   "metadata": {},
   "source": [
    "# IMAGE AUGMENTATION"
   ]
  },
  {
   "cell_type": "code",
   "execution_count": 2,
   "metadata": {},
   "outputs": [],
   "source": [
    "from tensorflow.keras.preprocessing.image import ImageDataGenerator\n",
    "from PIL import Image\n",
    "import scipy"
   ]
  },
  {
   "cell_type": "code",
   "execution_count": 3,
   "metadata": {},
   "outputs": [],
   "source": [
    "train_datagen=ImageDataGenerator(rescale=1./255, zoom_range=0.2,horizontal_flip=True,vertical_flip=False)"
   ]
  },
  {
   "cell_type": "code",
   "execution_count": 4,
   "metadata": {},
   "outputs": [],
   "source": [
    "test_datagen=ImageDataGenerator(rescale=1./255)"
   ]
  },
  {
   "cell_type": "code",
   "execution_count": 5,
   "metadata": {},
   "outputs": [
    {
     "name": "stdout",
     "output_type": "stream",
     "text": [
      "Found 4317 images belonging to 5 classes.\n"
     ]
    }
   ],
   "source": [
    "x_train=train_datagen.flow_from_directory(r\"C:\\Users\\Admin\\PYTHON\\flowers\",target_size=(64,64),class_mode='categorical',batch_size=24)"
   ]
  },
  {
   "cell_type": "code",
   "execution_count": 6,
   "metadata": {},
   "outputs": [
    {
     "name": "stdout",
     "output_type": "stream",
     "text": [
      "Found 4317 images belonging to 5 classes.\n"
     ]
    }
   ],
   "source": [
    "x_test=test_datagen.flow_from_directory(r\"C:\\Users\\Admin\\PYTHON\\flowers\",target_size=(64,64),class_mode='categorical',batch_size=24)"
   ]
  },
  {
   "cell_type": "code",
   "execution_count": 7,
   "metadata": {},
   "outputs": [
    {
     "data": {
      "text/plain": [
       "{'daisy': 0, 'dandelion': 1, 'rose': 2, 'sunflower': 3, 'tulip': 4}"
      ]
     },
     "execution_count": 7,
     "metadata": {},
     "output_type": "execute_result"
    }
   ],
   "source": [
    "x_train.class_indices"
   ]
  },
  {
   "cell_type": "markdown",
   "metadata": {},
   "source": [
    "# INITIALIZING CNN AND CREATE MODEL"
   ]
  },
  {
   "cell_type": "code",
   "execution_count": 8,
   "metadata": {},
   "outputs": [],
   "source": [
    "from tensorflow.keras.models import Sequential\n",
    "from tensorflow.keras.layers import Dense,Convolution2D,MaxPooling2D,Flatten"
   ]
  },
  {
   "cell_type": "markdown",
   "metadata": {},
   "source": [
    "# ADD LAYERS"
   ]
  },
  {
   "cell_type": "code",
   "execution_count": 9,
   "metadata": {},
   "outputs": [],
   "source": [
    "model=Sequential()"
   ]
  },
  {
   "cell_type": "markdown",
   "metadata": {},
   "source": [
    "# INPUT LAYERS (CONVOLUTION ,MAXPOOLING,FLATTEN)"
   ]
  },
  {
   "cell_type": "code",
   "execution_count": 10,
   "metadata": {},
   "outputs": [],
   "source": [
    "model.add(Convolution2D(32,(3,3),input_shape=(64,64,3),activation='relu'))"
   ]
  },
  {
   "cell_type": "code",
   "execution_count": 11,
   "metadata": {},
   "outputs": [],
   "source": [
    "model.add(MaxPooling2D(pool_size=(2,2)))"
   ]
  },
  {
   "cell_type": "code",
   "execution_count": 12,
   "metadata": {},
   "outputs": [],
   "source": [
    "model.add(Flatten())"
   ]
  },
  {
   "cell_type": "code",
   "execution_count": 13,
   "metadata": {},
   "outputs": [
    {
     "name": "stdout",
     "output_type": "stream",
     "text": [
      "Model: \"sequential\"\n",
      "_________________________________________________________________\n",
      " Layer (type)                Output Shape              Param #   \n",
      "=================================================================\n",
      " conv2d (Conv2D)             (None, 62, 62, 32)        896       \n",
      "                                                                 \n",
      " max_pooling2d (MaxPooling2D  (None, 31, 31, 32)       0         \n",
      " )                                                               \n",
      "                                                                 \n",
      " flatten (Flatten)           (None, 30752)             0         \n",
      "                                                                 \n",
      "=================================================================\n",
      "Total params: 896\n",
      "Trainable params: 896\n",
      "Non-trainable params: 0\n",
      "_________________________________________________________________\n"
     ]
    }
   ],
   "source": [
    "model.summary()"
   ]
  },
  {
   "cell_type": "markdown",
   "metadata": {},
   "source": [
    "# HIDDEN LAYERS"
   ]
  },
  {
   "cell_type": "code",
   "execution_count": 14,
   "metadata": {},
   "outputs": [],
   "source": [
    "model.add(Dense(300,activation='relu'))\n",
    "model.add(Dense(150,activation='relu'))"
   ]
  },
  {
   "cell_type": "markdown",
   "metadata": {},
   "source": [
    "# OUTPUT LAYERS"
   ]
  },
  {
   "cell_type": "code",
   "execution_count": 15,
   "metadata": {},
   "outputs": [],
   "source": [
    "model.add(Dense(5,activation='softmax'))"
   ]
  },
  {
   "cell_type": "code",
   "execution_count": 16,
   "metadata": {},
   "outputs": [],
   "source": [
    "model.compile(loss='categorical_crossentropy',optimizer='adam',metrics=['accuracy'])"
   ]
  },
  {
   "cell_type": "code",
   "execution_count": 17,
   "metadata": {},
   "outputs": [
    {
     "data": {
      "text/plain": [
       "180"
      ]
     },
     "execution_count": 17,
     "metadata": {},
     "output_type": "execute_result"
    }
   ],
   "source": [
    "len(x_train)"
   ]
  },
  {
   "cell_type": "markdown",
   "metadata": {},
   "source": [
    "# TRAIN THE MODEL"
   ]
  },
  {
   "cell_type": "code",
   "execution_count": 18,
   "metadata": {},
   "outputs": [
    {
     "name": "stderr",
     "output_type": "stream",
     "text": [
      "C:\\Users\\Admin\\anaconda3\\lib\\site-packages\\ipykernel_launcher.py:1: UserWarning: `Model.fit_generator` is deprecated and will be removed in a future version. Please use `Model.fit`, which supports generators.\n",
      "  \"\"\"Entry point for launching an IPython kernel.\n"
     ]
    },
    {
     "name": "stdout",
     "output_type": "stream",
     "text": [
      "Epoch 1/30\n",
      "180/180 [==============================] - 90s 498ms/step - loss: 1.3223 - accuracy: 0.4790 - val_loss: 1.1087 - val_accuracy: 0.5712\n",
      "Epoch 2/30\n",
      "180/180 [==============================] - 45s 252ms/step - loss: 1.0223 - accuracy: 0.5983 - val_loss: 1.0673 - val_accuracy: 0.5967\n",
      "Epoch 3/30\n",
      "180/180 [==============================] - 47s 260ms/step - loss: 0.9362 - accuracy: 0.6356 - val_loss: 1.0128 - val_accuracy: 0.6044\n",
      "Epoch 4/30\n",
      "180/180 [==============================] - 47s 262ms/step - loss: 0.8771 - accuracy: 0.6593 - val_loss: 0.8344 - val_accuracy: 0.7014\n",
      "Epoch 5/30\n",
      "180/180 [==============================] - 47s 262ms/step - loss: 0.8186 - accuracy: 0.6919 - val_loss: 0.7578 - val_accuracy: 0.7128\n",
      "Epoch 6/30\n",
      "180/180 [==============================] - 47s 263ms/step - loss: 0.7751 - accuracy: 0.7065 - val_loss: 0.6888 - val_accuracy: 0.7470\n",
      "Epoch 7/30\n",
      "180/180 [==============================] - 47s 263ms/step - loss: 0.6985 - accuracy: 0.7327 - val_loss: 0.7022 - val_accuracy: 0.7461\n",
      "Epoch 8/30\n",
      "180/180 [==============================] - 47s 264ms/step - loss: 0.6714 - accuracy: 0.7491 - val_loss: 0.5775 - val_accuracy: 0.7948\n",
      "Epoch 9/30\n",
      "180/180 [==============================] - 47s 262ms/step - loss: 0.6529 - accuracy: 0.7549 - val_loss: 0.5420 - val_accuracy: 0.8098\n",
      "Epoch 10/30\n",
      "180/180 [==============================] - 48s 270ms/step - loss: 0.5950 - accuracy: 0.7755 - val_loss: 0.4766 - val_accuracy: 0.8318\n",
      "Epoch 11/30\n",
      "180/180 [==============================] - 48s 265ms/step - loss: 0.5752 - accuracy: 0.7936 - val_loss: 0.5360 - val_accuracy: 0.8135\n",
      "Epoch 12/30\n",
      "180/180 [==============================] - 47s 263ms/step - loss: 0.5124 - accuracy: 0.8059 - val_loss: 0.4028 - val_accuracy: 0.8571\n",
      "Epoch 13/30\n",
      "180/180 [==============================] - 48s 265ms/step - loss: 0.5145 - accuracy: 0.8073 - val_loss: 0.5352 - val_accuracy: 0.8061\n",
      "Epoch 14/30\n",
      "180/180 [==============================] - 47s 264ms/step - loss: 0.4730 - accuracy: 0.8277 - val_loss: 0.3398 - val_accuracy: 0.8821\n",
      "Epoch 15/30\n",
      "180/180 [==============================] - 47s 263ms/step - loss: 0.4572 - accuracy: 0.8274 - val_loss: 0.4110 - val_accuracy: 0.8562\n",
      "Epoch 16/30\n",
      "180/180 [==============================] - 47s 262ms/step - loss: 0.4015 - accuracy: 0.8527 - val_loss: 0.2715 - val_accuracy: 0.9050\n",
      "Epoch 17/30\n",
      "180/180 [==============================] - 47s 263ms/step - loss: 0.3988 - accuracy: 0.8571 - val_loss: 0.3753 - val_accuracy: 0.8677\n",
      "Epoch 18/30\n",
      "180/180 [==============================] - 49s 272ms/step - loss: 0.3472 - accuracy: 0.8677 - val_loss: 0.3142 - val_accuracy: 0.8886\n",
      "Epoch 19/30\n",
      "180/180 [==============================] - 49s 275ms/step - loss: 0.3276 - accuracy: 0.8819 - val_loss: 0.2696 - val_accuracy: 0.9041\n",
      "Epoch 20/30\n",
      "180/180 [==============================] - 54s 303ms/step - loss: 0.2994 - accuracy: 0.8941 - val_loss: 0.2004 - val_accuracy: 0.9277\n",
      "Epoch 21/30\n",
      "180/180 [==============================] - 62s 343ms/step - loss: 0.2717 - accuracy: 0.9025 - val_loss: 0.2408 - val_accuracy: 0.9185\n",
      "Epoch 22/30\n",
      "180/180 [==============================] - 72s 400ms/step - loss: 0.2503 - accuracy: 0.9097 - val_loss: 0.1982 - val_accuracy: 0.9342\n",
      "Epoch 23/30\n",
      "180/180 [==============================] - 74s 411ms/step - loss: 0.2519 - accuracy: 0.9136 - val_loss: 0.1744 - val_accuracy: 0.9419\n",
      "Epoch 24/30\n",
      "180/180 [==============================] - 74s 410ms/step - loss: 0.2407 - accuracy: 0.9187 - val_loss: 0.2465 - val_accuracy: 0.9134\n",
      "Epoch 25/30\n",
      "180/180 [==============================] - 74s 409ms/step - loss: 0.2156 - accuracy: 0.9243 - val_loss: 0.1206 - val_accuracy: 0.9602\n",
      "Epoch 26/30\n",
      "180/180 [==============================] - 73s 408ms/step - loss: 0.2156 - accuracy: 0.9247 - val_loss: 0.1355 - val_accuracy: 0.9555\n",
      "Epoch 27/30\n",
      "180/180 [==============================] - 74s 412ms/step - loss: 0.2109 - accuracy: 0.9270 - val_loss: 0.2876 - val_accuracy: 0.9122\n",
      "Epoch 28/30\n",
      "180/180 [==============================] - 77s 427ms/step - loss: 0.1999 - accuracy: 0.9363 - val_loss: 0.2711 - val_accuracy: 0.9185\n",
      "Epoch 29/30\n",
      "180/180 [==============================] - 74s 410ms/step - loss: 0.2038 - accuracy: 0.9312 - val_loss: 0.1197 - val_accuracy: 0.9595\n",
      "Epoch 30/30\n",
      "180/180 [==============================] - 75s 417ms/step - loss: 0.1581 - accuracy: 0.9446 - val_loss: 0.1250 - val_accuracy: 0.9567\n"
     ]
    },
    {
     "data": {
      "text/plain": [
       "<keras.callbacks.History at 0x23f682a1588>"
      ]
     },
     "execution_count": 18,
     "metadata": {},
     "output_type": "execute_result"
    }
   ],
   "source": [
    "model.fit_generator(x_train,steps_per_epoch=len(x_train), validation_data=x_test, validation_steps=len(x_test), epochs= 30)"
   ]
  },
  {
   "cell_type": "markdown",
   "metadata": {},
   "source": [
    "# SAVE THE MODEL"
   ]
  },
  {
   "cell_type": "code",
   "execution_count": 19,
   "metadata": {},
   "outputs": [],
   "source": [
    "model.save('Flowers_classification_model1.h5')"
   ]
  },
  {
   "cell_type": "markdown",
   "metadata": {},
   "source": [
    "# TEST THE MODEL"
   ]
  },
  {
   "cell_type": "code",
   "execution_count": 20,
   "metadata": {},
   "outputs": [],
   "source": [
    "import numpy as np\n",
    "from tensorflow.keras.models import load_model\n",
    "from tensorflow.keras.preprocessing import image"
   ]
  },
  {
   "cell_type": "code",
   "execution_count": 21,
   "metadata": {},
   "outputs": [],
   "source": [
    "# Load the model\n",
    "model=load_model('Flowers_classification_model1.h5')"
   ]
  },
  {
   "cell_type": "code",
   "execution_count": 22,
   "metadata": {},
   "outputs": [],
   "source": [
    "img=image.load_img(r\"C:\\Users\\Admin\\PYTHON\\sunflower.jpeg\",target_size=(64,64))"
   ]
  },
  {
   "cell_type": "code",
   "execution_count": 23,
   "metadata": {},
   "outputs": [
    {
     "data": {
      "image/png": "[encoded data removed]",
      "text/plain": [
       "<PIL.Image.Image image mode=RGB size=64x64 at 0x23F6B953E08>"
      ]
     },
     "execution_count": 23,
     "metadata": {},
     "output_type": "execute_result"
    }
   ],
   "source": [
    "img"
   ]
  },
  {
   "cell_type": "code",
   "execution_count": 24,
   "metadata": {},
   "outputs": [
    {
     "name": "stdout",
     "output_type": "stream",
     "text": [
      "1/1 [==============================] - 0s 287ms/step\n"
     ]
    },
    {
     "data": {
      "text/plain": [
       "'sunflower'"
      ]
     },
     "execution_count": 24,
     "metadata": {},
     "output_type": "execute_result"
    }
   ],
   "source": [
    "x=image.img_to_array(img)\n",
    "x=np.expand_dims(x,axis=0)\n",
    "y=np.argmax(model.predict(x),axis=1)\n",
    "# x_train.class_indices\n",
    "index=['daisy','dandelion','rose','sunflower','tulip']\n",
    "index[y[0]]"
   ]
  },
  {
   "cell_type": "code",
   "execution_count": null,
   "metadata": {},
   "outputs": [],
   "source": []
  }
 ],
 "metadata": {
  "kernelspec": {
   "display_name": "Python 3",
   "language": "python",
   "name": "python3"
  },
  "language_info": {
   "codemirror_mode": {
    "name": "ipython",
    "version": 3
   },
   "file_extension": ".py",
   "mimetype": "text/x-python",
   "name": "python",
   "nbconvert_exporter": "python",
   "pygments_lexer": "ipython3",
   "version": "3.7.6"
  }
 },
 "nbformat": 4,
 "nbformat_minor": 5
}
